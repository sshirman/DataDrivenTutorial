{
 "cells": [
  {
   "cell_type": "code",
   "execution_count": 1,
   "metadata": {},
   "outputs": [],
   "source": [
    "import numpy as np\n",
    "from scipy.integrate import odeint\n",
    "import matplotlib.pyplot as plt"
   ]
  },
  {
   "cell_type": "code",
   "execution_count": 2,
   "metadata": {},
   "outputs": [],
   "source": [
    "from Lorenz96 import Deriv96"
   ]
  },
  {
   "cell_type": "code",
   "execution_count": 6,
   "metadata": {},
   "outputs": [],
   "source": [
    "x0 = np.array([1,2,3,4,5])\n",
    "time = np.linspace(0,10,1000)"
   ]
  },
  {
   "cell_type": "code",
   "execution_count": 10,
   "metadata": {},
   "outputs": [],
   "source": [
    "sol = odeint(Deriv96, t= time, y0= x0, args = (10,))"
   ]
  },
  {
   "cell_type": "code",
   "execution_count": 15,
   "metadata": {},
   "outputs": [],
   "source": [
    "for i in range(len(x0)):\n",
    "    plt.subplot(np.ceil(float(len(x0))/2.),2,i+1)\n",
    "    plt.title('Variable {}'.format(i+1))\n",
    "    plt.xlabel('Time')\n",
    "    plt.ylabel('State Value')\n",
    "    plt.plot(time, sol[:,i])\n",
    "    \n",
    "plt.suptitle('Chaotic Time Series')\n",
    "plt.tight_layout()"
   ]
  },
  {
   "cell_type": "code",
   "execution_count": 24,
   "metadata": {},
   "outputs": [],
   "source": [
    "timesample = np.array([0,3., 6.,  9.])\n",
    "parvalues = np.arange(0,15,0.01)\n",
    "solsample = np.zeros((len(parvalues),len(timesample),len(x0)))\n",
    "for i in range(len(parvalues)):\n",
    "    solsample[i] = odeint(Deriv96, t = timesample, y0=x0, args = (parvalues[i],))"
   ]
  },
  {
   "cell_type": "code",
   "execution_count": 46,
   "metadata": {},
   "outputs": [
    {
     "data": {
      "text/plain": [
       "Text(0.5,0.98,'State Value at sample times\\n')"
      ]
     },
     "execution_count": 46,
     "metadata": {},
     "output_type": "execute_result"
    }
   ],
   "source": [
    "#1 variable over parameter change\n",
    "for i in range(len(x0)):\n",
    "    plt.subplot(np.ceil(float(len(x0))/2.),2,i+1)\n",
    "    plt.title('\\nVariable {}'.format(i+1))\n",
    "    plt.xlabel('Parameter Value')\n",
    "    plt.ylabel('State Value')\n",
    "    plt.plot(parvalues, solsample[:,1:,i])\n",
    "    plt.axvline(x = 8, color = 'black')\n",
    "    \n",
    "    if i == 1:\n",
    "        plt.legend(['t = {}'. format(timesample[1]), 't = {}'. format(timesample[2]), 't = {}'. format(timesample[3]), 'Threshold for\\nchaotic behavior'])\n",
    "\n",
    "    \n",
    "plt.suptitle('State Value at sample times\\n')"
   ]
  },
  {
   "cell_type": "code",
   "execution_count": 84,
   "metadata": {},
   "outputs": [],
   "source": [
    "#2 variables State Space over parameter change\n",
    "for t in range(3):\n",
    "    plt.subplot(3,1,t+1)\n",
    "    plt.plot(solsample[800:1100,t+1,0], solsample[800:1100,t+1,1], lw = 2, color = 'red')\n",
    "    plt.plot(solsample[:801,t+1,0], solsample[:801,t+1,1], lw = 2, color = 'black')\n",
    "    plt.plot(solsample[0,t+1,0],solsample[0,t+1,1], '*', color = 'blue')\n",
    "    plt.plot(solsample[1099,t+1,0],solsample[1099,t+1,1], '*', color = 'green')\n",
    "    if t == 1:\n",
    "        plt.ylabel('First State')\n",
    "    if t ==0:\n",
    "        plt.legend(['Chaotic Region', 'Non Chaotic Region', 'Parameter = 0', 'Parameter = 11'])\n",
    "    plt.title('Time = {}'.format(timesample[t+1]))\n",
    "\n",
    "plt.xlabel('Second State')\n",
    "plt.suptitle('Position in State Space\\nat given time with\\nchange in parameter')\n",
    "plt.tight_layout()"
   ]
  },
  {
   "cell_type": "code",
   "execution_count": null,
   "metadata": {},
   "outputs": [],
   "source": []
  }
 ],
 "metadata": {
  "kernelspec": {
   "display_name": "Python 2",
   "language": "python",
   "name": "python2"
  },
  "language_info": {
   "codemirror_mode": {
    "name": "ipython",
    "version": 2
   },
   "file_extension": ".py",
   "mimetype": "text/x-python",
   "name": "python",
   "nbconvert_exporter": "python",
   "pygments_lexer": "ipython2",
   "version": "2.7.12"
  }
 },
 "nbformat": 4,
 "nbformat_minor": 2
}
